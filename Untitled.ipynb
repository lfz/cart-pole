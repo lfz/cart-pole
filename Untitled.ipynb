{
 "cells": [
  {
   "cell_type": "code",
   "execution_count": 1,
   "metadata": {
    "collapsed": true
   },
   "outputs": [],
   "source": [
    "%matplotlib inline  \n",
    "\n",
    "import numpy as np\n",
    "import matplotlib\n",
    "import copy\n",
    "\n",
    "import matplotlib.pyplot as plt\n",
    "import random\n",
    "from IPython.core.display import display\n",
    "from IPython.core.display import clear_output"
   ]
  },
  {
   "cell_type": "code",
   "execution_count": 2,
   "metadata": {
    "collapsed": false
   },
   "outputs": [],
   "source": [
    "class environment:\n",
    "    def __init__(self,x0 = [0,0,0.02,0]):\n",
    "        \n",
    "#         % copy from http://ctms.engin.umich.edu/CTMS/index.php?example=InvertedPendulum&section=SystemModeling\n",
    "# % (M)       mass of the cart                         0.5 kg\n",
    "# % (m)       mass of the pendulum                     0.2 kg\n",
    "# % (b)       coefficient of friction for cart         0.1 N/m/sec\n",
    "# % (l)       length to pendulum center of mass        0.3 m\n",
    "# % (I)       mass moment of inertia of the pendulum   0.006 kg.m^2\n",
    "# % (F)       force applied to the cart\n",
    "# % (x)       cart position coordinate\n",
    "# % (phi)   pendulum angle from vertical (-pi/2~pi/2)\n",
    "        M = .5\n",
    "        m = 0.2\n",
    "        b = 0.1\n",
    "        I = 0.006\n",
    "        g = 9.8\n",
    "        l = 0.3\n",
    "        \n",
    "\n",
    "        p = I*(M+m)+M*m*l**2; #denominator for the A and B matrices\n",
    "\n",
    "        self.__A = np.array([[0,    1,              0,           0],\\\n",
    "            [0, -(I+m*l**2)*b/p,  (m**2*g*l**2)/p,   0],\\\n",
    "            [0,      0,              0,           1],\\\n",
    "            [0, -(m*l*b)/p,       m*g*l*(M+m)/p,  0]])\n",
    "        self.__B = np.array([     0,            (I+m*l**2)/p,       0,            m*l/p]).T\n",
    "        \n",
    "        self.state = x0\n",
    "        \n",
    "\n",
    "    def freerun(self,time,u):\n",
    "        dt = 0.005 #run time resoluction\n",
    "        n_loop = int (time/dt)\n",
    "        tleft = time%dt\n",
    "        \n",
    "        for t in range(n_loop):\n",
    "            self.state += dt*(np.dot(self.__A,self.state)+np.dot(self.__B,u))\n"
   ]
  },
  {
   "cell_type": "code",
   "execution_count": 10,
   "metadata": {
    "collapsed": true
   },
   "outputs": [],
   "source": [
    "class trainer():\n",
    "    def __init__(self,agent):\n",
    "        self.agent = agent\n",
    "        self.tdstep = 4\n",
    "    def runOneEpoch(self,isTrain=True,isshow=False):\n",
    "        e = environment()\n",
    "        t_res = 0.05\n",
    "        phi = e.state[2]\n",
    "        n_t = 0\n",
    "        targetStep = 1000\n",
    "        statehis =e.state\n",
    "        passflag = 0\n",
    "        \n",
    "\n",
    "        criterior1 = np.abs( e.state[2])<np.pi/2\n",
    "        criterior2 = n_t<targetStep\n",
    "        self.agent.refresh()\n",
    "        while criterior1&criterior2:\n",
    "            if isTrain:\n",
    "                u = self.agent.chooseAct(e.state,epsilon=0.01)\n",
    "            else:\n",
    "                u = self.agent.chooseAct(e.state,epsilon=0)\n",
    "            e.freerun(t_res,u)\n",
    "            criterior1 = np.abs( e.state[2])<np.pi/2\n",
    "            reward = float(criterior1)-1\n",
    "            self.agent.feedback(e.state,reward,u,isTrain,self.tdstep,not criterior1)\n",
    "            statehis=np.vstack((statehis,e.state))\n",
    "            plt.plot(n_t,phi)\n",
    "            n_t+=1\n",
    "            criterior2 = n_t<targetStep\n",
    "\n",
    "        self.agent.finish(e.state,self.tdstep,isTrain)\n",
    "\n",
    "        if isshow:\n",
    "            tt = np.array(range(0,n_t+1)).astype('float')*t_res\n",
    "            plt.plot(tt,statehis[:,2])\n",
    "            plt.xlim(tt[0],tt[-1])\n",
    "        return n_t*t_res\n",
    "    def runNepochs(self,N):\n",
    "        t_test = []\n",
    "        for i in range(N):\n",
    "            t_test.append(self.runOneEpoch(isshow=False))\n",
    "\n",
    "        plt.plot (np.abs(t_test))\n",
    "    def show(self):\n",
    "        self.runOneEpoch(isTrain=False,isshow=True)"
   ]
  },
  {
   "cell_type": "code",
   "execution_count": 11,
   "metadata": {
    "collapsed": false
   },
   "outputs": [],
   "source": [
    "agt = naiveQ()\n",
    "t = trainer(agt)"
   ]
  },
  {
   "cell_type": "code",
   "execution_count": 29,
   "metadata": {
    "collapsed": false
   },
   "outputs": [
    {
     "data": {
      "image/png": "[encoded data removed]",
      "text/plain": [
       "<matplotlib.figure.Figure at 0x164724898>"
      ]
     },
     "metadata": {},
     "output_type": "display_data"
    }
   ],
   "source": [
    "t.runNepochs(1000)"
   ]
  },
  {
   "cell_type": "code",
   "execution_count": 27,
   "metadata": {
    "collapsed": false
   },
   "outputs": [
    {
     "data": {
      "text/plain": [
       "6.45"
      ]
     },
     "execution_count": 27,
     "metadata": {},
     "output_type": "execute_result"
    },
    {
     "data": {
      "image/png": "[encoded data removed]",
      "text/plain": [
       "<matplotlib.figure.Figure at 0x164200438>"
      ]
     },
     "metadata": {},
     "output_type": "display_data"
    }
   ],
   "source": [
    "t.runOneEpoch(isTrain=0,isshow=1)"
   ]
  },
  {
   "cell_type": "code",
   "execution_count": 28,
   "metadata": {
    "collapsed": false
   },
   "outputs": [
    {
     "data": {
      "text/plain": [
       "[[2, 2, 8, 5],\n",
       " [2, 2, 8, 5],\n",
       " [2, 2, 8, 4],\n",
       " [2, 2, 7, 5],\n",
       " [2, 2, 7, 5],\n",
       " [2, 2, 7, 5],\n",
       " [2, 2, 7, 5],\n",
       " [2, 2, 8, 6],\n",
       " [2, 2, 8, 5],\n",
       " [2, 2, 8, 5],\n",
       " [2, 2, 8, 5],\n",
       " [2, 2, 8, 5],\n",
       " [2, 2, 8, 4],\n",
       " [2, 2, 7, 5],\n",
       " [2, 2, 7, 5],\n",
       " [2, 2, 7, 5],\n",
       " [2, 2, 8, 6],\n",
       " [2, 2, 8, 5],\n",
       " [2, 2, 8, 5],\n",
       " [2, 2, 8, 5],\n",
       " [2, 2, 7, 4],\n",
       " [2, 2, 7, 5],\n",
       " [2, 2, 7, 5],\n",
       " [2, 2, 7, 5],\n",
       " [2, 2, 7, 6],\n",
       " [2, 2, 7, 5],\n",
       " [2, 2, 8, 6],\n",
       " [2, 2, 8, 5],\n",
       " [2, 2, 8, 5],\n",
       " [2, 2, 8, 5],\n",
       " [2, 2, 8, 5],\n",
       " [2, 2, 8, 4],\n",
       " [2, 2, 8, 5],\n",
       " [2, 1, 8, 4],\n",
       " [2, 2, 7, 5],\n",
       " [2, 2, 7, 5],\n",
       " [2, 2, 7, 5],\n",
       " [2, 2, 7, 6],\n",
       " [2, 2, 8, 5],\n",
       " [2, 2, 8, 5],\n",
       " [2, 2, 8, 5],\n",
       " [2, 2, 8, 4],\n",
       " [2, 2, 7, 5],\n",
       " [2, 2, 7, 5],\n",
       " [2, 2, 7, 5],\n",
       " [2, 2, 8, 6],\n",
       " [2, 2, 8, 5],\n",
       " [2, 2, 8, 5],\n",
       " [2, 2, 8, 5],\n",
       " [2, 2, 8, 5],\n",
       " [1, 1, 8, 4],\n",
       " [1, 2, 8, 5],\n",
       " [1, 1, 8, 5],\n",
       " [1, 1, 8, 5],\n",
       " [1, 1, 7, 4],\n",
       " [1, 1, 7, 5],\n",
       " [1, 1, 7, 5],\n",
       " [1, 1, 7, 5],\n",
       " [1, 2, 7, 4],\n",
       " [1, 2, 7, 5],\n",
       " [1, 2, 7, 5],\n",
       " [1, 2, 7, 5],\n",
       " [1, 2, 7, 5],\n",
       " [1, 2, 7, 5],\n",
       " [1, 2, 7, 5],\n",
       " [1, 3, 7, 5],\n",
       " [1, 3, 7, 6],\n",
       " [1, 3, 7, 5],\n",
       " [1, 3, 7, 5],\n",
       " [1, 3, 7, 5],\n",
       " [1, 3, 7, 6],\n",
       " [1, 3, 7, 5],\n",
       " [2, 3, 7, 5],\n",
       " [2, 3, 7, 6],\n",
       " [2, 3, 8, 5],\n",
       " [2, 3, 8, 5],\n",
       " [2, 3, 8, 5],\n",
       " [2, 2, 7, 4],\n",
       " [2, 3, 7, 5],\n",
       " [2, 3, 7, 5],\n",
       " [2, 3, 7, 5],\n",
       " [2, 3, 7, 5],\n",
       " [2, 3, 7, 6],\n",
       " [3, 3, 7, 5],\n",
       " [3, 3, 7, 6],\n",
       " [3, 3, 8, 5],\n",
       " [3, 3, 8, 5],\n",
       " [3, 3, 8, 5],\n",
       " [3, 3, 8, 5],\n",
       " [3, 3, 8, 5],\n",
       " [3, 3, 8, 5],\n",
       " [3, 3, 8, 5],\n",
       " [3, 3, 8, 5],\n",
       " [3, 3, 8, 5],\n",
       " [3, 3, 8, 5],\n",
       " [3, 3, 8, 5],\n",
       " [3, 3, 8, 5],\n",
       " [3, 3, 8, 5],\n",
       " [3, 3, 8, 5],\n",
       " [3, 3, 8, 5],\n",
       " [3, 3, 8, 5],\n",
       " [3, 3, 8, 5],\n",
       " [3, 3, 7, 5],\n",
       " [3, 3, 7, 5],\n",
       " [3, 3, 7, 5],\n",
       " [3, 3, 8, 6],\n",
       " [3, 3, 8, 5],\n",
       " [3, 3, 8, 5],\n",
       " [3, 3, 8, 5],\n",
       " [3, 3, 8, 5],\n",
       " [3, 3, 8, 5],\n",
       " [3, 3, 8, 5],\n",
       " [3, 3, 8, 5],\n",
       " [3, 3, 8, 6],\n",
       " [3, 3, 8, 5],\n",
       " [3, 2, 8, 6],\n",
       " [3, 2, 9, 6],\n",
       " [3, 2, 9, 6],\n",
       " [3, 2, 9, 6],\n",
       " [3, 2, 9, 6],\n",
       " [3, 2, 9, 6],\n",
       " [3, 2, 10, 6],\n",
       " [3, 2, 10, 7],\n",
       " [3, 2, 10, 8],\n",
       " [3, 2, 11, 9],\n",
       " [3, 2, 12, 9],\n",
       " [3, 2, 14, 9],\n",
       " [3, 2, 14, 9],\n",
       " [3, 3, 14, 9],\n",
       " [3, 3, 14, 9]]"
      ]
     },
     "execution_count": 28,
     "metadata": {},
     "output_type": "execute_result"
    }
   ],
   "source": [
    "t.agent.statehis"
   ]
  },
  {
   "cell_type": "code",
   "execution_count": 9,
   "metadata": {
    "code_folding": [
     0
    ],
    "collapsed": false
   },
   "outputs": [],
   "source": [
    "# agent using td(lambda), look up Q table\n",
    "class naiveQ():\n",
    "    def __init__(self):\n",
    "        \n",
    "        self.__dimState = 4\n",
    "        n_x = 4\n",
    "        range_x = [-0.5,0.5]\n",
    "\n",
    "        n_x_dot = 4\n",
    "        range_x_dot = [-1.,1.]\n",
    "\n",
    "        n_sin_phi = 15\n",
    "        range_phi = [-1.,1.]\n",
    "\n",
    "        n_phi_dot = 10\n",
    "        range_phi_dot = [-3.,3.]\n",
    "        \n",
    "        self.n_u = 6\n",
    "        self.range_u = [-1.,1.]\n",
    "        self.utable = list(np.linspace(self.range_u[0],self.range_u[1],self.n_u))\n",
    "        \n",
    "        \n",
    "        self.gamma = 0.8 # discount \n",
    "        self.alpha = 0.1 #learning rate\n",
    "        self.__n_x_seg = [n_x,n_x_dot,n_sin_phi,n_phi_dot]\n",
    "        self.__range_x = [range_x,range_x_dot,range_phi,range_phi_dot]\n",
    "        \n",
    "        self.Qtable = np.zeros((n_x,n_x_dot,n_sin_phi,n_phi_dot,self.n_u))\n",
    "        \n",
    "        \n",
    "        self.refresh()\n",
    "        \n",
    "        \n",
    "    def refresh(self):\n",
    "        self.statehis = []\n",
    "        self.actionhis = []\n",
    "        self.rewardhis = []\n",
    "        self.deltahis = []\n",
    "    def feedback(self,newstate,reward,act,isTrain,tdstep,completeSignal):\n",
    "        self.rewardhis.append(reward)\n",
    "        act_id = self.utable.index(act)\n",
    "        self.actionhis.append(act_id)\n",
    "\n",
    "        if not completeSignal:\n",
    "            delta = self.gamma*self.lookUpQ(newstate).max() + reward - self.lookUpQdisc(self.statehis[-1])[act_id]\n",
    "\n",
    "        else:\n",
    "            delta =reward - self.lookUpQdisc(self.statehis[-1])[act_id]\n",
    "        self.deltahis.append(delta)\n",
    "        \n",
    "\n",
    "        if isTrain:\n",
    "            self.trainTd(tdstep)\n",
    "            \n",
    "            \n",
    "    def trainTd(self,tdstep):\n",
    "            stepback = min(tdstep,len(self.deltahis))\n",
    "            lamb = 0.5\n",
    "            tdlamb = 0.\n",
    "                \n",
    "            for i in range(stepback):\n",
    "                tdlamb += self.deltahis[-1-i]*lamb**(stepback-i-1) \n",
    "            stateloc = self.statehis[-stepback]\n",
    "\n",
    "            self.Qtable[stateloc[0],stateloc[1],stateloc[2],stateloc[3],self.actionhis[-stepback]] += self.alpha*tdlamb\n",
    "    \n",
    "    \n",
    "            if self.Qtable[stateloc[0],stateloc[1],stateloc[2],stateloc[3],self.actionhis[-stepback]]  >10:\n",
    "                print('error begin')\n",
    "                print(['td',tdlamb])\n",
    "                print(['state',stateloc])\n",
    "                print(['stateQtable',self.Qtable[stateloc[0],stateloc[1],stateloc[2],stateloc[3]]] )\n",
    "                print(['action',self.actionhis[-stepback]])\n",
    "                print('error stop')\n",
    "    def finish(self,lastState,tdstep,isTrain):\n",
    "        if isTrain:\n",
    "            for stepLeft in range(1,tdstep):\n",
    "                self.trainTd(tdstep-stepLeft)\n",
    "#                 print(tdstep-stepLeft)\n",
    "        self.statehis.append(self.stateSeg(lastState))#last state hasn't been recorded\n",
    "\n",
    "            \n",
    "    def chooseAct(self,state,epsilon = 0.1):\n",
    "        stateloc = self.stateSeg(state)\n",
    "#         print(stateloc)\n",
    "        self.statehis.append(stateloc)\n",
    "#         print(self.statehis)\n",
    "\n",
    "        if np.random.rand()<epsilon:\n",
    "            return self.utable[np.random.randint(len(self.utable))]\n",
    "\n",
    "        currentQ = self.Qtable[stateloc[0],stateloc[1],stateloc[2],stateloc[3],:]\n",
    "        maxId =[i for i,x in enumerate(currentQ) if x==currentQ.max()]\n",
    "        chosenId = np.random.randint(len(maxId))\n",
    "        return self.utable[maxId[chosenId]]\n",
    "    def lookUpQ(self,state):\n",
    "        stateloc = self.stateSeg(state)\n",
    "        return self.lookUpQdisc(stateloc)\n",
    "    \n",
    "    def lookUpQdisc(self,stateloc):\n",
    "        return self.Qtable[stateloc[0],stateloc[1],stateloc[2],stateloc[3],:]\n",
    "\n",
    "\n",
    "    def stateSeg(self,state):\n",
    "        sinState  = np.array(state)\n",
    "        sinState[2] = np.sin(state[2])\n",
    "        return [self.__segment(self.__n_x_seg[i], self.__range_x[i],state[i]) for i in range(self.__dimState)]\n",
    "    \n",
    "    def actSeg(self,u):\n",
    "        return self.__segment(self.n_u,self.range_u,u)\n",
    "    def __segment(self,n_s,range_s,s):\n",
    "        ds = (range_s[1]-range_s[0])/n_s\n",
    "        loc = int(round((s-range_s[0])/ds))\n",
    "        if loc <0:\n",
    "            loc = 0\n",
    "        elif loc>=n_s:\n",
    "            loc = n_s-1\n",
    "        return loc\n",
    "        \n"
   ]
  },
  {
   "cell_type": "code",
   "execution_count": null,
   "metadata": {
    "code_folding": [
     0
    ],
    "collapsed": true
   },
   "outputs": [],
   "source": [
    "# necessary apis for a agent\n",
    "# class agent():\n",
    "#     def __init__(self):\n",
    "        \n",
    "        \n",
    "#     def refresh(self):\n",
    "        \n",
    "#     def feedback(self,newstate,reward,act,isTrain,tdstep,completeSignal):\n",
    "        \n",
    "                       \n",
    "            \n",
    "#     def finish(self,lastState,tdstep,isTrain):\n",
    "       \n",
    "            \n",
    "#     def chooseAct(self,state,epsilon = 0.1):\n",
    "        \n",
    "        \n",
    "\n",
    "#     def stateSeg(self,state):\n",
    "      "
   ]
  },
  {
   "cell_type": "code",
   "execution_count": null,
   "metadata": {
    "code_folding": [],
    "collapsed": true
   },
   "outputs": [],
   "source": [
    "class actorCritic():\n",
    "    def __init__(self):\n",
    "        \n",
    "        \n",
    "    def refresh(self):\n",
    "        \n",
    "    def feedback(self,newstate,reward,act,isTrain,tdstep,completeSignal):\n",
    "        \n",
    "                       \n",
    "            \n",
    "    def finish(self,lastState,tdstep,isTrain):\n",
    "       \n",
    "            \n",
    "    def chooseAct(self,state,epsilon = 0.1):\n",
    "        \n",
    "        \n",
    "\n",
    "    def stateSeg(self,state):"
   ]
  },
  {
   "cell_type": "code",
   "execution_count": 45,
   "metadata": {
    "code_folding": [],
    "collapsed": false
   },
   "outputs": [],
   "source": [
    "# def test(isshow = True,isTrain = True):\n",
    "\n",
    "#     e = environment()\n",
    "#     t_res = 0.05\n",
    "#     phi = e.state[2]\n",
    "#     n_t = 0\n",
    "#     targetStep = 1000\n",
    "#     statehis =e.state\n",
    "#     passflag = 0\n",
    "#     tdstep = 4\n",
    "    \n",
    "#     criterior1 = np.abs( e.state[2])<np.pi/2\n",
    "#     criterior2 = n_t<targetStep\n",
    "#     agent.refresh()\n",
    "#     while criterior1&criterior2:\n",
    "#         if isTrain:\n",
    "#             u = agent.chooseAct(e.state,epsilon=0.01)\n",
    "#         else:\n",
    "#             u = agent.chooseAct(e.state,epsilon=0)\n",
    "#         e.freerun(t_res,u)\n",
    "#         criterior1 = np.abs( e.state[2])<np.pi/2\n",
    "#         reward = float(criterior1)-1\n",
    "#         agent.feedback(e.state,reward,u,isTrain,tdstep,not criterior1)\n",
    "#         statehis=np.vstack((statehis,e.state))\n",
    "#         plt.plot(n_t,phi)\n",
    "#         n_t+=1\n",
    "#         criterior2 = n_t<targetStep\n",
    "    \n",
    "#     agent.finish(e.state,tdstep,isTrain)\n",
    "    \n",
    "#     if isshow:\n",
    "#         tt = np.array(range(0,n_t+1)).astype('float')*t_res\n",
    "#         plt.plot(tt,statehis[:,2])\n",
    "#         plt.xlim(tt[0],tt[-1])\n",
    "#     return n_t*t_res\n",
    "\n",
    "# def bunchtest(n):\n",
    "#     t_test = []\n",
    "\n",
    "#     for i in range(n):\n",
    "#         t_test.append(test(isshow=False))\n",
    "\n",
    "#     plt.plot (np.abs(t_test))"
   ]
  },
  {
   "cell_type": "code",
   "execution_count": 13,
   "metadata": {
    "collapsed": false
   },
   "outputs": [
    {
     "data": {
      "text/plain": [
       "[0, 0, 0, 0, 0, 0, 1, 1, 0, 0, 5, 3, 2, 2]"
      ]
     },
     "execution_count": 13,
     "metadata": {},
     "output_type": "execute_result"
    }
   ],
   "source": [
    "agent.actionhis"
   ]
  },
  {
   "cell_type": "code",
   "execution_count": 15,
   "metadata": {
    "collapsed": false
   },
   "outputs": [
    {
     "data": {
      "text/plain": [
       "array([-0.02108151, -0.03193766, -0.03366044, -0.04301693, -0.03390598,\n",
       "       -0.04562249])"
      ]
     },
     "execution_count": 15,
     "metadata": {},
     "output_type": "execute_result"
    }
   ],
   "source": [
    "agent.lookUpQdisc(agent.statehis[0])"
   ]
  },
  {
   "cell_type": "code",
   "execution_count": 392,
   "metadata": {
    "collapsed": false
   },
   "outputs": [
    {
     "data": {
      "text/plain": [
       "array([-0.98922474, -0.99030226, -0.99030226, -0.99030226, -0.99030226,\n",
       "       -0.99030226])"
      ]
     },
     "execution_count": 392,
     "metadata": {},
     "output_type": "execute_result"
    }
   ],
   "source": [
    "agent.lookUpQdisc([2,3,14,9])"
   ]
  },
  {
   "cell_type": "code",
   "execution_count": 395,
   "metadata": {
    "collapsed": false
   },
   "outputs": [
    {
     "name": "stdout",
     "output_type": "stream",
     "text": [
      "ERROR! Session/line number was not unique in database. History logging moved to new session 50\n"
     ]
    },
    {
     "data": {
      "text/plain": [
       "[0.012376997680208654,\n",
       " 0.046111481806772915,\n",
       " 0.012129457726604481,\n",
       " -0.092820368022733926,\n",
       " -0.012159818891237156,\n",
       " 0.05061955187377673,\n",
       " -0.019103601633638667,\n",
       " -0.010095067701953897,\n",
       " -0.032051256655242277,\n",
       " -0.014493329349000494,\n",
       " 0.03588980336372416,\n",
       " -2.8620607639417983e-07]"
      ]
     },
     "execution_count": 395,
     "metadata": {},
     "output_type": "execute_result"
    }
   ],
   "source": [
    "agent.deltahis"
   ]
  },
  {
   "cell_type": "code",
   "execution_count": 53,
   "metadata": {
    "collapsed": false
   },
   "outputs": [
    {
     "data": {
      "text/plain": [
       "[[2, 2, 8, 5],\n",
       " [2, 2, 8, 5],\n",
       " [2, 2, 8, 4],\n",
       " [2, 2, 7, 5],\n",
       " [2, 2, 7, 5],\n",
       " [2, 2, 7, 5],\n",
       " [2, 2, 8, 6],\n",
       " [2, 2, 8, 5],\n",
       " [2, 2, 8, 5],\n",
       " [2, 2, 8, 5],\n",
       " [2, 2, 8, 4],\n",
       " [2, 2, 7, 5],\n",
       " [2, 2, 7, 5],\n",
       " [2, 2, 8, 6],\n",
       " [2, 2, 8, 5],\n",
       " [2, 2, 8, 5],\n",
       " [2, 2, 8, 4],\n",
       " [2, 2, 7, 5],\n",
       " [2, 2, 7, 5],\n",
       " [2, 2, 7, 6],\n",
       " [2, 2, 8, 5],\n",
       " [2, 2, 8, 5],\n",
       " [2, 2, 7, 4],\n",
       " [2, 2, 7, 5],\n",
       " [2, 2, 7, 5],\n",
       " [2, 2, 7, 5],\n",
       " [2, 2, 8, 6],\n",
       " [2, 2, 8, 5],\n",
       " [2, 2, 8, 5],\n",
       " [2, 2, 8, 5],\n",
       " [2, 2, 8, 5],\n",
       " [2, 2, 8, 4],\n",
       " [2, 2, 8, 5],\n",
       " [2, 2, 7, 4],\n",
       " [2, 2, 7, 5],\n",
       " [2, 2, 7, 5],\n",
       " [2, 2, 7, 5],\n",
       " [2, 2, 7, 6],\n",
       " [2, 2, 8, 5],\n",
       " [2, 2, 8, 5],\n",
       " [2, 2, 8, 5],\n",
       " [2, 2, 7, 4],\n",
       " [2, 2, 7, 4],\n",
       " [2, 2, 7, 5],\n",
       " [2, 2, 7, 5],\n",
       " [2, 2, 7, 5],\n",
       " [2, 2, 7, 5],\n",
       " [2, 3, 7, 6],\n",
       " [2, 2, 7, 5],\n",
       " [2, 3, 8, 6],\n",
       " [2, 2, 8, 5],\n",
       " [2, 2, 8, 5],\n",
       " [2, 2, 8, 5],\n",
       " [2, 2, 8, 4],\n",
       " [2, 2, 8, 5],\n",
       " [2, 2, 7, 4],\n",
       " [2, 2, 7, 5],\n",
       " [2, 2, 7, 5],\n",
       " [2, 2, 7, 6],\n",
       " [2, 2, 8, 5],\n",
       " [2, 2, 8, 5],\n",
       " [2, 2, 7, 4],\n",
       " [2, 2, 7, 5],\n",
       " [2, 2, 7, 5],\n",
       " [2, 2, 7, 5],\n",
       " [2, 3, 8, 6],\n",
       " [2, 2, 8, 5],\n",
       " [2, 2, 8, 5],\n",
       " [2, 2, 8, 5],\n",
       " [2, 2, 8, 4],\n",
       " [2, 2, 8, 5],\n",
       " [2, 2, 7, 4],\n",
       " [2, 2, 7, 5],\n",
       " [2, 2, 7, 5],\n",
       " [2, 2, 7, 5],\n",
       " [2, 3, 8, 6],\n",
       " [2, 2, 8, 5],\n",
       " [2, 2, 8, 5],\n",
       " [2, 2, 8, 5],\n",
       " [2, 2, 8, 5],\n",
       " [2, 2, 8, 4],\n",
       " [2, 2, 7, 5],\n",
       " [2, 2, 7, 5],\n",
       " [2, 2, 7, 5],\n",
       " [2, 2, 8, 6],\n",
       " [2, 2, 8, 5],\n",
       " [2, 2, 8, 5],\n",
       " [2, 2, 8, 5],\n",
       " [2, 2, 8, 4],\n",
       " [2, 2, 7, 5],\n",
       " [2, 2, 7, 5],\n",
       " [2, 2, 7, 5],\n",
       " [2, 2, 8, 6],\n",
       " [2, 2, 8, 6],\n",
       " [2, 2, 8, 5],\n",
       " [2, 2, 8, 5],\n",
       " [2, 2, 8, 5],\n",
       " [2, 2, 8, 5],\n",
       " [2, 1, 8, 4],\n",
       " [2, 2, 8, 5],\n",
       " [2, 1, 8, 4],\n",
       " [2, 2, 7, 5],\n",
       " [2, 2, 7, 5],\n",
       " [2, 2, 8, 6],\n",
       " [2, 2, 8, 5],\n",
       " [2, 2, 8, 5],\n",
       " [2, 1, 8, 5],\n",
       " [2, 1, 8, 4],\n",
       " [2, 1, 7, 5],\n",
       " [1, 1, 7, 5],\n",
       " [1, 2, 7, 5],\n",
       " [1, 2, 7, 5],\n",
       " [1, 2, 8, 6],\n",
       " [1, 2, 8, 5],\n",
       " [1, 2, 8, 5],\n",
       " [1, 1, 8, 5],\n",
       " [1, 1, 8, 5],\n",
       " [1, 1, 8, 4],\n",
       " [1, 1, 7, 5],\n",
       " [1, 2, 7, 5],\n",
       " [1, 2, 8, 5],\n",
       " [1, 2, 8, 5],\n",
       " [1, 1, 8, 5],\n",
       " [1, 1, 8, 4],\n",
       " [1, 1, 7, 5],\n",
       " [1, 2, 7, 5],\n",
       " [1, 2, 8, 6],\n",
       " [1, 2, 8, 5],\n",
       " [1, 1, 8, 5],\n",
       " [1, 1, 8, 5],\n",
       " [0, 1, 8, 4],\n",
       " [0, 1, 8, 5],\n",
       " [0, 1, 7, 4],\n",
       " [0, 1, 7, 5],\n",
       " [0, 1, 7, 5],\n",
       " [0, 2, 7, 5],\n",
       " [0, 2, 7, 6],\n",
       " [0, 1, 7, 5],\n",
       " [0, 2, 7, 5],\n",
       " [0, 2, 8, 6],\n",
       " [0, 2, 8, 6],\n",
       " [0, 2, 8, 5],\n",
       " [0, 1, 8, 5],\n",
       " [0, 1, 8, 5],\n",
       " [0, 1, 8, 4],\n",
       " [0, 1, 8, 5],\n",
       " [0, 1, 8, 4],\n",
       " [0, 1, 7, 4],\n",
       " [0, 1, 7, 5],\n",
       " [0, 1, 7, 5],\n",
       " [0, 2, 7, 5],\n",
       " [0, 2, 8, 6],\n",
       " [0, 2, 8, 5],\n",
       " [0, 1, 8, 5],\n",
       " [0, 1, 8, 5],\n",
       " [0, 1, 8, 5],\n",
       " [0, 1, 8, 4],\n",
       " [0, 1, 7, 4],\n",
       " [0, 1, 7, 5],\n",
       " [0, 1, 7, 5],\n",
       " [0, 1, 7, 5],\n",
       " [0, 2, 8, 6],\n",
       " [0, 1, 8, 5],\n",
       " [0, 1, 8, 5],\n",
       " [0, 1, 8, 5],\n",
       " [0, 1, 8, 5],\n",
       " [0, 1, 8, 4],\n",
       " [0, 1, 7, 4],\n",
       " [0, 1, 7, 5],\n",
       " [0, 1, 7, 5],\n",
       " [0, 1, 7, 5],\n",
       " [0, 2, 7, 6],\n",
       " [0, 1, 8, 5],\n",
       " [0, 1, 8, 5],\n",
       " [0, 1, 8, 5],\n",
       " [0, 1, 8, 5],\n",
       " [0, 1, 7, 4],\n",
       " [0, 1, 7, 5],\n",
       " [0, 1, 7, 5],\n",
       " [0, 1, 7, 5],\n",
       " [0, 1, 7, 6],\n",
       " [0, 1, 7, 5],\n",
       " [0, 1, 8, 6],\n",
       " [0, 1, 8, 5],\n",
       " [0, 1, 8, 5],\n",
       " [0, 1, 8, 4],\n",
       " [0, 1, 7, 5],\n",
       " [0, 1, 7, 5],\n",
       " [0, 1, 7, 5],\n",
       " [0, 2, 7, 6],\n",
       " [0, 1, 8, 5],\n",
       " [0, 1, 8, 5],\n",
       " [0, 1, 8, 5],\n",
       " [0, 1, 7, 4],\n",
       " [0, 1, 7, 5],\n",
       " [0, 1, 7, 5],\n",
       " [0, 1, 7, 5],\n",
       " [0, 2, 7, 5],\n",
       " [0, 2, 7, 6],\n",
       " [0, 2, 8, 5],\n",
       " [0, 1, 8, 5],\n",
       " [0, 1, 8, 5],\n",
       " [0, 1, 8, 5],\n",
       " [0, 1, 7, 4],\n",
       " [0, 1, 7, 5],\n",
       " [0, 1, 7, 5],\n",
       " [0, 1, 7, 5],\n",
       " [0, 2, 7, 6],\n",
       " [0, 1, 7, 5],\n",
       " [0, 2, 8, 6],\n",
       " [0, 1, 8, 5],\n",
       " [0, 1, 8, 5],\n",
       " [0, 1, 8, 5],\n",
       " [0, 1, 7, 4],\n",
       " [0, 1, 7, 5],\n",
       " [0, 1, 7, 5],\n",
       " [0, 1, 7, 5],\n",
       " [0, 2, 7, 5],\n",
       " [0, 2, 7, 6],\n",
       " [0, 2, 8, 5],\n",
       " [0, 1, 8, 5],\n",
       " [0, 1, 8, 5],\n",
       " [0, 1, 8, 4],\n",
       " [0, 1, 7, 5],\n",
       " [0, 1, 7, 5],\n",
       " [0, 2, 7, 5],\n",
       " [0, 2, 7, 6],\n",
       " [0, 2, 8, 5],\n",
       " [0, 1, 8, 5],\n",
       " [0, 1, 8, 5],\n",
       " [0, 1, 7, 4],\n",
       " [0, 1, 7, 5],\n",
       " [0, 1, 7, 5],\n",
       " [0, 2, 7, 5],\n",
       " [0, 2, 7, 6],\n",
       " [0, 2, 7, 5],\n",
       " [0, 2, 8, 6],\n",
       " [0, 2, 8, 5],\n",
       " [0, 1, 8, 5],\n",
       " [0, 1, 8, 5],\n",
       " [0, 1, 8, 4],\n",
       " [0, 1, 7, 4],\n",
       " [0, 1, 7, 5],\n",
       " [0, 1, 7, 5],\n",
       " [0, 2, 7, 5],\n",
       " [0, 2, 7, 6],\n",
       " [0, 2, 7, 5],\n",
       " [0, 2, 8, 6],\n",
       " [0, 2, 8, 5],\n",
       " [0, 2, 8, 5],\n",
       " [0, 1, 8, 5],\n",
       " [0, 1, 8, 4],\n",
       " [0, 1, 7, 4],\n",
       " [0, 1, 7, 5],\n",
       " [0, 2, 7, 5],\n",
       " [0, 2, 7, 5],\n",
       " [0, 2, 8, 6],\n",
       " [0, 2, 8, 5],\n",
       " [0, 2, 8, 5],\n",
       " [0, 1, 8, 5],\n",
       " [0, 1, 8, 5],\n",
       " [0, 1, 8, 4],\n",
       " [0, 1, 7, 4],\n",
       " [0, 1, 7, 5],\n",
       " [0, 1, 7, 5],\n",
       " [0, 2, 7, 5],\n",
       " [0, 2, 7, 5],\n",
       " [0, 2, 7, 6],\n",
       " [0, 2, 7, 5],\n",
       " [0, 2, 8, 6],\n",
       " [0, 2, 8, 5],\n",
       " [0, 2, 8, 5],\n",
       " [0, 1, 8, 5],\n",
       " [0, 1, 8, 5],\n",
       " [0, 1, 8, 4],\n",
       " [0, 1, 7, 4],\n",
       " [0, 1, 7, 5],\n",
       " [0, 2, 7, 5],\n",
       " [0, 2, 7, 5],\n",
       " [0, 2, 7, 6],\n",
       " [0, 2, 7, 5],\n",
       " [0, 2, 8, 6],\n",
       " [0, 2, 8, 5],\n",
       " [0, 2, 8, 5],\n",
       " [0, 1, 8, 4],\n",
       " [0, 1, 7, 5],\n",
       " [0, 2, 7, 5],\n",
       " [0, 2, 7, 5],\n",
       " [0, 2, 7, 6],\n",
       " [0, 2, 8, 5],\n",
       " [0, 2, 8, 5],\n",
       " [0, 1, 7, 4],\n",
       " [0, 2, 7, 5],\n",
       " [0, 2, 7, 5],\n",
       " [0, 2, 8, 6],\n",
       " [0, 2, 8, 5],\n",
       " [0, 2, 8, 5],\n",
       " [0, 1, 8, 5],\n",
       " [0, 1, 7, 4],\n",
       " [0, 1, 7, 5],\n",
       " [0, 2, 7, 5],\n",
       " [0, 2, 7, 5],\n",
       " [0, 2, 7, 5],\n",
       " [0, 2, 7, 6],\n",
       " [0, 2, 7, 5],\n",
       " [0, 2, 8, 6],\n",
       " [0, 2, 8, 5],\n",
       " [0, 2, 8, 5],\n",
       " [0, 2, 8, 5],\n",
       " [0, 1, 8, 5],\n",
       " [0, 1, 8, 4],\n",
       " [0, 1, 7, 4],\n",
       " [0, 2, 7, 5],\n",
       " [0, 2, 7, 5],\n",
       " [0, 2, 7, 5],\n",
       " [0, 2, 7, 5],\n",
       " [0, 2, 7, 6],\n",
       " [0, 2, 8, 5],\n",
       " [0, 2, 8, 5],\n",
       " [0, 2, 8, 5],\n",
       " [0, 1, 8, 4],\n",
       " [0, 2, 7, 4],\n",
       " [0, 2, 7, 5],\n",
       " [0, 2, 7, 5],\n",
       " [0, 2, 7, 5],\n",
       " [0, 2, 7, 6],\n",
       " [0, 2, 7, 5],\n",
       " [0, 2, 8, 6],\n",
       " [0, 2, 8, 5],\n",
       " [0, 2, 8, 5],\n",
       " [0, 2, 8, 4],\n",
       " [0, 2, 7, 5],\n",
       " [0, 2, 7, 5],\n",
       " [0, 2, 8, 6],\n",
       " [0, 2, 8, 5],\n",
       " [0, 2, 8, 5],\n",
       " [0, 2, 8, 5],\n",
       " [0, 1, 7, 4],\n",
       " [0, 2, 7, 4],\n",
       " [0, 2, 7, 5],\n",
       " [0, 2, 7, 5],\n",
       " [0, 2, 7, 5],\n",
       " [0, 2, 7, 5],\n",
       " [0, 2, 7, 6],\n",
       " [0, 2, 7, 5],\n",
       " [0, 2, 7, 5],\n",
       " [0, 3, 8, 6],\n",
       " [0, 2, 8, 5],\n",
       " [0, 2, 8, 5],\n",
       " [0, 2, 8, 5],\n",
       " [0, 2, 8, 5],\n",
       " [0, 2, 8, 4],\n",
       " [0, 2, 7, 5],\n",
       " [0, 2, 7, 5],\n",
       " [0, 2, 7, 5],\n",
       " [0, 2, 8, 6],\n",
       " [0, 2, 8, 5],\n",
       " [0, 2, 8, 5],\n",
       " [0, 2, 8, 5],\n",
       " [0, 2, 8, 5],\n",
       " [0, 2, 8, 4],\n",
       " [0, 2, 8, 5],\n",
       " [0, 2, 7, 4],\n",
       " [0, 2, 7, 5],\n",
       " [0, 2, 7, 5],\n",
       " [0, 2, 7, 5],\n",
       " [0, 2, 7, 5],\n",
       " [0, 2, 7, 6],\n",
       " [0, 2, 8, 5],\n",
       " [0, 2, 8, 5],\n",
       " [0, 2, 8, 5],\n",
       " [0, 2, 7, 4],\n",
       " [0, 2, 7, 4],\n",
       " [0, 2, 7, 5],\n",
       " [0, 2, 7, 5],\n",
       " [0, 2, 7, 5],\n",
       " [0, 2, 7, 5],\n",
       " [0, 3, 7, 6],\n",
       " [0, 2, 8, 5],\n",
       " [0, 2, 8, 5],\n",
       " [0, 2, 8, 5],\n",
       " [0, 2, 7, 4],\n",
       " [0, 2, 7, 4],\n",
       " [0, 2, 7, 5],\n",
       " [0, 2, 7, 5],\n",
       " [0, 2, 7, 5],\n",
       " [0, 2, 7, 5],\n",
       " [0, 3, 7, 5],\n",
       " [0, 3, 7, 6],\n",
       " [0, 3, 7, 5],\n",
       " [0, 3, 7, 5],\n",
       " [0, 3, 7, 5],\n",
       " [0, 3, 7, 6],\n",
       " [0, 3, 8, 5],\n",
       " [0, 2, 8, 5],\n",
       " [0, 2, 7, 4],\n",
       " [0, 2, 7, 5],\n",
       " [0, 3, 7, 5],\n",
       " [0, 3, 7, 5],\n",
       " [0, 3, 7, 5],\n",
       " [0, 3, 7, 5],\n",
       " [0, 3, 8, 6],\n",
       " [0, 3, 8, 5],\n",
       " [0, 3, 8, 5],\n",
       " [0, 2, 8, 5],\n",
       " [0, 2, 7, 4],\n",
       " [0, 2, 7, 4],\n",
       " [0, 2, 7, 4],\n",
       " [0, 3, 7, 5],\n",
       " [0, 3, 7, 5],\n",
       " [0, 3, 7, 5],\n",
       " [0, 3, 7, 5],\n",
       " [0, 3, 7, 4],\n",
       " [0, 3, 6, 4],\n",
       " [0, 3, 6, 3],\n",
       " [0, 2, 6, 3],\n",
       " [0, 2, 5, 2],\n",
       " [0, 3, 4, 2],\n",
       " [0, 2, 4, 0],\n",
       " [0, 2, 2, 0],\n",
       " [0, 2, 1, 0],\n",
       " [0, 2, 0, 0],\n",
       " [0, 1, 0, 0]]"
      ]
     },
     "execution_count": 53,
     "metadata": {},
     "output_type": "execute_result"
    }
   ],
   "source": [
    "agent.statehis"
   ]
  },
  {
   "cell_type": "code",
   "execution_count": 451,
   "metadata": {
    "collapsed": false
   },
   "outputs": [],
   "source": [
    "a=np.array([1,1,2,3,4])\n",
    "b=[i for i,x in enumerate(a) if x==1]\n"
   ]
  },
  {
   "cell_type": "code",
   "execution_count": 343,
   "metadata": {
    "collapsed": false
   },
   "outputs": [
    {
     "data": {
      "text/plain": [
       "[0, 1]"
      ]
     },
     "execution_count": 343,
     "metadata": {},
     "output_type": "execute_result"
    }
   ],
   "source": [
    "b"
   ]
  },
  {
   "cell_type": "code",
   "execution_count": 241,
   "metadata": {
    "collapsed": false
   },
   "outputs": [
    {
     "data": {
      "text/plain": [
       "[4, 2, 2, 5, 4, 5, 2, 2, 5, 4]"
      ]
     },
     "execution_count": 241,
     "metadata": {},
     "output_type": "execute_result"
    }
   ],
   "source": [
    "agent.actionhis"
   ]
  },
  {
   "cell_type": "code",
   "execution_count": 296,
   "metadata": {
    "collapsed": false
   },
   "outputs": [
    {
     "data": {
      "text/plain": [
       "array([-39.984,  -0.544,   0.   ,   0.   ,   0.   ,  -0.912])"
      ]
     },
     "execution_count": 296,
     "metadata": {},
     "output_type": "execute_result"
    }
   ],
   "source": [
    "agent.lookUpQdisc(agent.statehis[-4]) "
   ]
  },
  {
   "cell_type": "code",
   "execution_count": 315,
   "metadata": {
    "collapsed": false
   },
   "outputs": [
    {
     "data": {
      "text/plain": [
       "2"
      ]
     },
     "execution_count": 315,
     "metadata": {},
     "output_type": "execute_result"
    }
   ],
   "source": [
    "agent.utable.index(agent.actionhis[1])"
   ]
  },
  {
   "cell_type": "code",
   "execution_count": null,
   "metadata": {
    "collapsed": true
   },
   "outputs": [],
   "source": []
  },
  {
   "cell_type": "code",
   "execution_count": null,
   "metadata": {
    "collapsed": true
   },
   "outputs": [],
   "source": []
  }
 ],
 "metadata": {
  "kernelspec": {
   "display_name": "Python 2",
   "language": "python",
   "name": "python2"
  },
  "language_info": {
   "codemirror_mode": {
    "name": "ipython",
    "version": 2
   },
   "file_extension": ".py",
   "mimetype": "text/x-python",
   "name": "python",
   "nbconvert_exporter": "python",
   "pygments_lexer": "ipython2",
   "version": "2.7.7"
  }
 },
 "nbformat": 4,
 "nbformat_minor": 0
}
